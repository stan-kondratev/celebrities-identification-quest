{
 "cells": [
  {
   "cell_type": "code",
   "execution_count": 43,
   "metadata": {},
   "outputs": [
    {
     "data": {
      "text/html": [
       "<div>\n",
       "<style scoped>\n",
       "    .dataframe tbody tr th:only-of-type {\n",
       "        vertical-align: middle;\n",
       "    }\n",
       "\n",
       "    .dataframe tbody tr th {\n",
       "        vertical-align: top;\n",
       "    }\n",
       "\n",
       "    .dataframe thead th {\n",
       "        text-align: right;\n",
       "    }\n",
       "</style>\n",
       "<table border=\"1\" class=\"dataframe\">\n",
       "  <thead>\n",
       "    <tr style=\"text-align: right;\">\n",
       "      <th></th>\n",
       "      <th>Name</th>\n",
       "      <th>Score</th>\n",
       "    </tr>\n",
       "  </thead>\n",
       "  <tbody>\n",
       "    <tr>\n",
       "      <th>0</th>\n",
       "      <td>my name</td>\n",
       "      <td>7</td>\n",
       "    </tr>\n",
       "  </tbody>\n",
       "</table>\n",
       "</div>"
      ],
      "text/plain": [
       "      Name Score\n",
       "0  my name     7"
      ]
     },
     "execution_count": 43,
     "metadata": {},
     "output_type": "execute_result"
    }
   ],
   "source": [
    "import pandas as pd\n",
    "import numpy as np\n",
    "\n",
    "df_score = pd.read_csv(\"guess.csv\")\n",
    "df_score.drop(columns=\"Unnamed: 0\", inplace=True)\n",
    "rnd_score = np.random.randint(1,100)\n",
    "score = pd.DataFrame.from_dict({\"Name\":[\"my name\"],\"Score\": [rnd_score]})\n",
    "pd.concat([df_score,score],ignore_index=True)\n",
    "# df_score.to_csv(\"guess.csv\")"
   ]
  },
  {
   "cell_type": "code",
   "execution_count": 12,
   "metadata": {},
   "outputs": [
    {
     "ename": "AttributeError",
     "evalue": "'dict' object has no attribute 'append'",
     "output_type": "error",
     "traceback": [
      "\u001b[0;31m---------------------------------------------------------------------------\u001b[0m",
      "\u001b[0;31mAttributeError\u001b[0m                            Traceback (most recent call last)",
      "\u001b[1;32m/home/jal/code/stan-kondratev/celebrities-identification-quest/test.ipynb Cell 2\u001b[0m in \u001b[0;36m1\n\u001b[0;32m----> <a href='vscode-notebook-cell://wsl%2Bubuntu/home/jal/code/stan-kondratev/celebrities-identification-quest/test.ipynb#W1sdnNjb2RlLXJlbW90ZQ%3D%3D?line=0'>1</a>\u001b[0m score[\u001b[39m\"\u001b[39;49m\u001b[39mName\u001b[39;49m\u001b[39m\"\u001b[39;49m]\u001b[39m.\u001b[39;49mappend(\u001b[39m\"\u001b[39m\u001b[39mtest\u001b[39m\u001b[39m\"\u001b[39m)\n",
      "\u001b[0;31mAttributeError\u001b[0m: 'dict' object has no attribute 'append'"
     ]
    }
   ],
   "source": [
    "score[\"Name\"].append(\"test\")"
   ]
  },
  {
   "cell_type": "code",
   "execution_count": 8,
   "metadata": {},
   "outputs": [],
   "source": [
    "import sys\n",
    "import pandas as pd\n",
    "from typing import List, Dict\n",
    "from SPARQLWrapper import SPARQLWrapper, JSON\n",
    "import cv2\n",
    "from matplotlib import pyplot as plt\n",
    "import unicodedata\n",
    "from wikidata import Tools\n",
    "import importlib\n"
   ]
  },
  {
   "cell_type": "code",
   "execution_count": 1,
   "metadata": {},
   "outputs": [],
   "source": [
    "import pandas as pd\n",
    "import streamlit as st\n",
    "from celebrity import DataRetrieve\n",
    "# Draw a title and some text to the app:\n",
    "'''\n",
    "# Celebrities Guessing wtih Images\n",
    "'''\n",
    "df = pd.read_csv(\"raw_data/list_act.csv\")\n",
    "\n",
    "df.sort_values(by=\"name\",axis=0, ascending=True, inplace=True)\n",
    "\n",
    "values = tuple(df['name'].tolist())\n",
    "values\n",
    "\n",
    "hidden_celebrity, hint = DataRetrieve.celeb_selector(file_path=\"raw_data/metafile.csv\")"
   ]
  },
  {
   "cell_type": "code",
   "execution_count": 3,
   "metadata": {},
   "outputs": [
    {
     "data": {
      "text/plain": [
       "'Cary Grant'"
      ]
     },
     "execution_count": 3,
     "metadata": {},
     "output_type": "execute_result"
    }
   ],
   "source": [
    "score = DataRetrieve.celeb_and_score_query(hidden_celebrity=hidden_celebrity,celebrity=celebrity,\\\n",
    "                    names_df=pd.read_csv(\"raw_data/names.csv\"),score_df=pd.read_csv(\"raw_data/scoring.csv\"))"
   ]
  },
  {
   "cell_type": "code",
   "execution_count": 7,
   "metadata": {},
   "outputs": [
    {
     "data": {
      "text/plain": [
       "'Bitterly Cold'"
      ]
     },
     "execution_count": 7,
     "metadata": {},
     "output_type": "execute_result"
    }
   ],
   "source": [
    "score_words = [\"Frigid\",\"Bitterly Cold\",\"Chilling\",\"Brisk\",\"Refreshing\",\"Pleasantly Mild\",\"Balmy\",\"Sweltering\",\"Roasting\",\"Scorching Hot\"]\n",
    "score = 10\n",
    "score_words[int(score/10)]"
   ]
  },
  {
   "cell_type": "code",
   "execution_count": null,
   "metadata": {},
   "outputs": [],
   "source": [
    "X_tsne_centered = X_tsne - np.mean(X_tsne, axis=0) + desired_vector\n",
    "#Try to apply it to your embedding dataset and let me know\n",
    "import numpy as np\n",
    "import matplotlib.pyplot as plt\n",
    "from sklearn.manifold import TSNE\n",
    "\n",
    "# Generate random data for demonstration\n",
    "num_samples = 100\n",
    "embedding_dim = 10\n",
    "X = np.random.randn(num_samples, embedding_dim)\n",
    "\n",
    "# Desired vector for centering the t-SNE space\n",
    "# desired_vector = np.array([0.5, -0.2, 0.8, -0.3, 0.2, -0.1, 0.7, -0.4, 0.3, -0.2])\n",
    "\n",
    "# Calculate t-SNE embedding\n",
    "tsne = TSNE(n_components=2, random_state=42)\n",
    "X_tsne = tsne.fit_transform(X)\n",
    "\n",
    "# select the 32th vector by your choice\n",
    "desired_vector = X_tsne[32]\n",
    "# Center the t-SNE space on the desired vector\n",
    "X_tsne_centered = X_tsne - np.mean(X_tsne, axis=0) + desired_vector\n",
    "\n",
    "print(desired_vector)\n",
    "# Plot the t-SNE embeddings\n",
    "plt.scatter(X_tsne[:, 0], X_tsne[:, 1], label='Original')\n",
    "plt.scatter(X_tsne_centered[:, 0], X_tsne_centered[:, 1], label='Centered')\n",
    "plt.scatter(desired_vector[0], desired_vector[1], label='Center')\n",
    "plt.legend()\n",
    "plt.xlabel('Dimension 1')\n",
    "plt.ylabel('Dimension 2')\n",
    "plt.title('t-SNE Embedding')\n",
    "plt.show()"
   ]
  },
  {
   "cell_type": "code",
   "execution_count": 2,
   "metadata": {},
   "outputs": [],
   "source": [
    "import pandas as pd\n",
    "\n",
    "df = pd.read_csv(\"raw_data/metafile_complete.csv\")"
   ]
  }
 ],
 "metadata": {
  "kernelspec": {
   "display_name": "lewagon",
   "language": "python",
   "name": "python3"
  },
  "language_info": {
   "codemirror_mode": {
    "name": "ipython",
    "version": 3
   },
   "file_extension": ".py",
   "mimetype": "text/x-python",
   "name": "python",
   "nbconvert_exporter": "python",
   "pygments_lexer": "ipython3",
   "version": "3.10.6"
  },
  "orig_nbformat": 4
 },
 "nbformat": 4,
 "nbformat_minor": 2
}
