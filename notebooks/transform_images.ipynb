{
 "cells": [
  {
   "cell_type": "code",
   "execution_count": 17,
   "metadata": {},
   "outputs": [],
   "source": [
    "import dlib\n",
    "import cv2\n",
    "import numpy as np\n"
   ]
  },
  {
   "cell_type": "code",
   "execution_count": 10,
   "metadata": {},
   "outputs": [],
   "source": [
    "model_path=\"/home/jal/.deepface/weights/vgg_face_weights.h5\"\n",
    "# Load the pre-trained face detection model\n",
    "detector = dlib.get_frontal_face_detector()\n",
    "predictor = dlib.shape_predictor('../raw_data/shape_predictor_81_face_landmarks.dat')\n"
   ]
  },
  {
   "cell_type": "code",
   "execution_count": 11,
   "metadata": {},
   "outputs": [],
   "source": [
    "import os"
   ]
  },
  {
   "cell_type": "code",
   "execution_count": 12,
   "metadata": {},
   "outputs": [
    {
     "data": {
      "text/plain": [
       "'/home/jal/code/stan-kondratev/celebrities-identification-quest/notebooks'"
      ]
     },
     "execution_count": 12,
     "metadata": {},
     "output_type": "execute_result"
    }
   ],
   "source": [
    "os.getcwd()\n"
   ]
  },
  {
   "cell_type": "code",
   "execution_count": 20,
   "metadata": {},
   "outputs": [
    {
     "data": {
      "text/plain": [
       "['../raw_data/actors/Johnny Depp b&w (6).jpg',\n",
       " '../raw_data/actors/Tom Cruise b&w(18).jpg',\n",
       " '../raw_data/actors/Keanu Reeves b&w (11).jpg',\n",
       " '../raw_data/actors/Cate Blanchett B&w (2).jpg',\n",
       " '../raw_data/actors/Kate Winslet b&w(8).jpg',\n",
       " '../raw_data/actors/Johnny Depp b&w(5).jpg',\n",
       " '../raw_data/actors/Keanu Reeves b&w(10).jpg',\n",
       " '../raw_data/actors/Keanu Reeves b&w(12).jpg',\n",
       " '../raw_data/actors/Tom Cruise b&w (16).jpg',\n",
       " '../raw_data/actors/Johnny Depp b&w (4).jpg',\n",
       " '../raw_data/actors/Nicole Kidman b&w(13).jpg',\n",
       " '../raw_data/actors/Cate Blanchett b&w (1).jpg',\n",
       " '../raw_data/actors/Nicole Kidman b&w (15).jpg',\n",
       " '../raw_data/actors/Kate winslet b&w (7).jpg',\n",
       " '../raw_data/actors/Kate Winslet b&w (9).jpg',\n",
       " '../raw_data/actors/Nicole Kidman b&w (14).jpg',\n",
       " '../raw_data/actors/Tom Cruise b&w (17).jpg',\n",
       " '../raw_data/actors/Cate Blanchett b&w.jpg']"
      ]
     },
     "execution_count": 20,
     "metadata": {},
     "output_type": "execute_result"
    }
   ],
   "source": [
    "folder_path = \"../raw_data/actors/\"\n",
    "\n",
    "file_list = [os.path.join(folder_path, file) for file in os.listdir(folder_path) if os.path.isfile(os.path.join(folder_path, file))]\n",
    "file_list"
   ]
  },
  {
   "cell_type": "code",
   "execution_count": 23,
   "metadata": {},
   "outputs": [
    {
     "name": "stdout",
     "output_type": "stream",
     "text": [
      "Face image saved: ../raw_data/actors/Johnny Depp b&w (6)_face_aligned.jpg\n",
      "Face image saved: ../raw_data/actors/Tom Cruise b&w(18)_face_aligned.jpg\n",
      "Face image saved: ../raw_data/actors/Cate Blanchett B&w (2)_face_aligned.jpg\n",
      "Face image saved: ../raw_data/actors/Kate Winslet b&w(8)_face_aligned.jpg\n",
      "Face image saved: ../raw_data/actors/Johnny Depp b&w(5)_face_aligned.jpg\n",
      "Face image saved: ../raw_data/actors/Keanu Reeves b&w(10)_face_aligned.jpg\n",
      "Face image saved: ../raw_data/actors/Keanu Reeves b&w(12)_face_aligned.jpg\n",
      "Face image saved: ../raw_data/actors/Tom Cruise b&w (16)_face_aligned.jpg\n",
      "Face image saved: ../raw_data/actors/Johnny Depp b&w (4)_face_aligned.jpg\n",
      "Face image saved: ../raw_data/actors/Nicole Kidman b&w(13)_face_aligned.jpg\n",
      "Face image saved: ../raw_data/actors/Cate Blanchett b&w (1)_face_aligned.jpg\n",
      "Face image saved: ../raw_data/actors/Nicole Kidman b&w (15)_face_aligned.jpg\n",
      "Face image saved: ../raw_data/actors/Kate winslet b&w (7)_face_aligned.jpg\n",
      "Face image saved: ../raw_data/actors/Kate Winslet b&w (9)_face_aligned.jpg\n",
      "Face image saved: ../raw_data/actors/Nicole Kidman b&w (14)_face_aligned.jpg\n",
      "Face image saved: ../raw_data/actors/Tom Cruise b&w (17)_face_aligned.jpg\n",
      "Face image saved: ../raw_data/actors/Cate Blanchett b&w_face_aligned.jpg\n"
     ]
    }
   ],
   "source": [
    "\n",
    "images = [f.replace('.jpg', '') for f in file_list]\n",
    "for image_path in images:\n",
    "    image = cv2.imread(image_path+'.jpg')\n",
    "    # Convert the image to grayscale for face detection\n",
    "    gray = cv2.cvtColor(image, cv2.COLOR_BGR2GRAY)\n",
    "    # Detect faces in the image\n",
    "    faces = detector(gray)\n",
    "    # We take only the first detected face, if exist\n",
    "    if len(faces) == 0:\n",
    "        continue\n",
    "    face = faces[0]\n",
    "    \n",
    "    # We extract the landmarks   \n",
    "    landmarks = predictor(image, face)\n",
    "    landmarks = np.array([[p.x, p.y] for p in landmarks.parts()])\n",
    "\n",
    "    # Calculate the center of the eyes\n",
    "    left_eye = np.mean(landmarks[36:42], axis=0)\n",
    "    right_eye = np.mean(landmarks[42:48], axis=0)\n",
    "    nose = landmarks[30]\n",
    "\n",
    "    # Calculate the angle between the eyes and the horizontal line\n",
    "    dY = right_eye[1] - left_eye[1]\n",
    "    dX = right_eye[0] - left_eye[0]\n",
    "    angle = np.degrees(np.arctan2(dY, dX))\n",
    "\n",
    "    # Rotate the image around the center of the face rectangle\n",
    "    (x, y, w, h) = (face.left(), face.top(), face.width(), face.height())\n",
    "    center = (x + w // 2, y + h // 2)\n",
    "    M = cv2.getRotationMatrix2D(center, angle, 1.0)\n",
    "    aligned_face = cv2.warpAffine(image, M, (image.shape[1], image.shape[0]), flags=cv2.INTER_CUBIC)\n",
    "    if ((aligned_face.shape[0] == 0) or (aligned_face.shape[1] == 0) or (aligned_face.shape[2] == 0)):\n",
    "        continue\n",
    "    \n",
    "    # Re apply the face crop on the aligned image\n",
    "    gray = cv2.cvtColor(aligned_face, cv2.COLOR_BGR2GRAY)\n",
    "    faces_aligned = detector(gray)\n",
    "    if not faces_aligned:\n",
    "        continue\n",
    "    x, y, w, h = faces_aligned[0].left(), faces_aligned[0].top(), faces_aligned[0].width(), faces_aligned[0].height()\n",
    "    processed_face = aligned_face[y:y+h, x:x+w]\n",
    "    if ((processed_face.shape[0] == 0) or (processed_face.shape[1] == 0) or (processed_face.shape[2] == 0)):\n",
    "        continue\n",
    "    \n",
    "    # Save the final preprocessed image\n",
    "    save_path = image_path+\"_face_aligned.jpg\"\n",
    "    \n",
    "    # black and white output:\n",
    "    cv2.imwrite(save_path, processed_face) #cv2.cvtColor(processed_face, cv2.COLOR_BGR2GRAY)\n",
    "    #cv2.imwrite(save_path, face_image)\n",
    "    print(f\"Face image saved: {save_path}\")"
   ]
  }
 ],
 "metadata": {
  "kernelspec": {
   "display_name": "lewagon",
   "language": "python",
   "name": "python3"
  },
  "language_info": {
   "codemirror_mode": {
    "name": "ipython",
    "version": 3
   },
   "file_extension": ".py",
   "mimetype": "text/x-python",
   "name": "python",
   "nbconvert_exporter": "python",
   "pygments_lexer": "ipython3",
   "version": "3.10.6"
  },
  "orig_nbformat": 4
 },
 "nbformat": 4,
 "nbformat_minor": 2
}
