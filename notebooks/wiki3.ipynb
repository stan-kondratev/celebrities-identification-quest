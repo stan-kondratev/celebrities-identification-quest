{
 "cells": [
  {
   "cell_type": "code",
   "execution_count": 1,
   "metadata": {},
   "outputs": [],
   "source": [
    "import requests\n"
   ]
  },
  {
   "cell_type": "code",
   "execution_count": 11,
   "metadata": {},
   "outputs": [],
   "source": [
    "# pip install sparqlwrapper\n",
    "# https://rdflib.github.io/sparqlwrapper/\n",
    "\n",
    "# import sys\n",
    "import requests\n",
    "url = 'https://www.wikidata.org/w/api.php'\n",
    "\n",
    "def search_entities(name, url):\n",
    "    \"\"\"\n",
    "    Get the entity id, using a name, by calling the Wiki API. \n",
    "    The output is a list of dict of dictionaries corresponding to the number of\n",
    "    occurances of the given name \n",
    "    \"\"\"\n",
    "    params = {\n",
    "        'action': 'wbsearchentities',\n",
    "        'format': 'json',\n",
    "        'language': 'en',\n",
    "        'search': name\n",
    "    }\n",
    "    response = requests.get(url, params=params)\n",
    "    return response.json()['search']\n",
    "\n"
   ]
  },
  {
   "cell_type": "code",
   "execution_count": 7,
   "metadata": {},
   "outputs": [
    {
     "name": "stdout",
     "output_type": "stream",
     "text": [
      "{'item': {'type': 'uri', 'value': 'http://www.wikidata.org/entity/Q37079'}, 'image': {'type': 'uri', 'value': 'http://commons.wikimedia.org/wiki/Special:FilePath/TomCruiseDec08MTV%20cropped.jpg'}, 'occupationLabel': {'xml:lang': 'en', 'type': 'literal', 'value': 'film director'}, 'genderLabel': {'xml:lang': 'en', 'type': 'literal', 'value': 'male'}, 'bdayLabel': {'type': 'literal', 'value': '1962-07-03T00:00:00Z'}, 'citizenshipLabel': {'xml:lang': 'en', 'type': 'literal', 'value': 'United States of America'}}\n",
      "{'item': {'type': 'uri', 'value': 'http://www.wikidata.org/entity/Q37079'}, 'image': {'type': 'uri', 'value': 'http://commons.wikimedia.org/wiki/Special:FilePath/TomCruiseDec08MTV%20cropped.jpg'}, 'occupationLabel': {'xml:lang': 'en', 'type': 'literal', 'value': 'film producer'}, 'genderLabel': {'xml:lang': 'en', 'type': 'literal', 'value': 'male'}, 'bdayLabel': {'type': 'literal', 'value': '1962-07-03T00:00:00Z'}, 'citizenshipLabel': {'xml:lang': 'en', 'type': 'literal', 'value': 'United States of America'}}\n",
      "{'item': {'type': 'uri', 'value': 'http://www.wikidata.org/entity/Q37079'}, 'image': {'type': 'uri', 'value': 'http://commons.wikimedia.org/wiki/Special:FilePath/TomCruiseDec08MTV%20cropped.jpg'}, 'occupationLabel': {'xml:lang': 'en', 'type': 'literal', 'value': 'film actor'}, 'genderLabel': {'xml:lang': 'en', 'type': 'literal', 'value': 'male'}, 'bdayLabel': {'type': 'literal', 'value': '1962-07-03T00:00:00Z'}, 'citizenshipLabel': {'xml:lang': 'en', 'type': 'literal', 'value': 'United States of America'}}\n"
     ]
    }
   ],
   "source": [
    "from SPARQLWrapper import SPARQLWrapper, JSON\n",
    "import sys\n",
    "\n",
    "endpoint_url = \"https://query.wikidata.org/sparql\"\n",
    "\n",
    "query = \"\"\"\n",
    "SELECT ?item ?occupationLabel ?image ?genderLabel ?bdayLabel ?citizenshipLabel\n",
    "WHERE \n",
    "{\n",
    "  ?item wdt:P106 ?occupation .\n",
    "  ?item wdt:P21 ?gender .\n",
    "  ?item wdt:P18 ?image .\n",
    "  ?item wdt:P569 ?bday .\n",
    "  ?item wdt:P27 ?citizenship\n",
    "  FILTER(?item = wd:Q37079)\n",
    "  SERVICE wikibase:label { bd:serviceParam wikibase:language \"[AUTO_LANGUAGE],en\". }\n",
    "}\n",
    "\"\"\"\n",
    "\n",
    "\n",
    "def get_results(endpoint_url, query):\n",
    "    \"\"\"\n",
    "    Get's the information from endpoint (wikidata), by submitting a SPAQL query,\n",
    "    returning s corresponding JSON file\n",
    "    \"\"\"\n",
    "    user_agent = \"WDQS-example Python/%s.%s\" % (sys.version_info[0], sys.version_info[1])\n",
    "    # TODO adjust user agent; see https://w.wiki/CX6\n",
    "    sparql = SPARQLWrapper(endpoint_url, agent=user_agent)\n",
    "    sparql.setQuery(query)\n",
    "    sparql.setReturnFormat(JSON)\n",
    "    return sparql.query().convert()\n",
    "\n",
    "\n",
    "results = get_results(endpoint_url, query)\n",
    "\n",
    "for result in results[\"results\"][\"bindings\"]:\n",
    "    print(result)"
   ]
  },
  {
   "cell_type": "code",
   "execution_count": 8,
   "metadata": {},
   "outputs": [
    {
     "data": {
      "text/plain": [
       "{'type': 'uri',\n",
       " 'value': 'http://commons.wikimedia.org/wiki/Special:FilePath/TomCruiseDec08MTV%20cropped.jpg'}"
      ]
     },
     "execution_count": 8,
     "metadata": {},
     "output_type": "execute_result"
    }
   ],
   "source": [
    "results[\"results\"][\"bindings\"][0][\"image\"]"
   ]
  },
  {
   "cell_type": "code",
   "execution_count": 9,
   "metadata": {},
   "outputs": [],
   "source": [
    "import pandas as pd\n",
    "# Get all the names and entity_id\n",
    "data = pd.read_csv(\"../raw_data/list_act.csv\") #read current names from the list_act csv"
   ]
  },
  {
   "cell_type": "code",
   "execution_count": 12,
   "metadata": {},
   "outputs": [],
   "source": [
    "#new dictionary to ho\n",
    "new_file_dict = {\n",
    "    \"name\":[],\n",
    "    \"wiki_id\":[]\n",
    "}\n",
    "for name in data[\"name\"]:\n",
    "    res = search_entities(name,url=url)[0][\"id\"]\n",
    "    new_file_dict[\"name\"].append(name)\n",
    "    new_file_dict[\"wiki_id\"].append(res)\n",
    "   "
   ]
  },
  {
   "cell_type": "code",
   "execution_count": 13,
   "metadata": {},
   "outputs": [],
   "source": [
    "df_act = pd.DataFrame(new_file_dict)\n"
   ]
  },
  {
   "cell_type": "code",
   "execution_count": 14,
   "metadata": {},
   "outputs": [],
   "source": [
    "df_act.to_csv(\"../raw_data/celebrity_list.csv\")"
   ]
  },
  {
   "cell_type": "code",
   "execution_count": 8,
   "metadata": {},
   "outputs": [],
   "source": [
    "df_act = pd.read_csv(\"../raw_data/celebrity_list.csv\")\n",
    "import sys\n",
    "sys.path.insert(0, '../')\n",
    "import pandas as pd\n"
   ]
  },
  {
   "cell_type": "code",
   "execution_count": 28,
   "metadata": {},
   "outputs": [],
   "source": [
    "# Create a new df with all the name taken from the df having wiki_id\n",
    "from logic import WikiDataQueryResults as wdr\n",
    "\n",
    "\n",
    "new_df = pd.DataFrame(columns=['itemLabel','item', 'image', 'occupationLabel','genderLabel', 'bdayLabel','citizenshipLabel','dodLabel'])\n",
    "\n",
    "for wiki_id in df_act[\"wiki_id\"]:\n",
    "\n",
    "    query = f\"\"\"\n",
    "    SELECT ?itemLabel ?item ?occupationLabel ?image ?genderLabel ?bdayLabel ?citizenshipLabel ?dodLabel\n",
    "    WHERE \n",
    "    {{\n",
    "    ?item wdt:P106 ?occupation .\n",
    "    ?item wdt:P21 ?gender .\n",
    "    ?item wdt:P18 ?image .\n",
    "    ?item wdt:P569 ?bday .\n",
    "    ?item wdt:P27 ?citizenship .\n",
    "    ?item wdt:P570 ?dod .\n",
    "    FILTER(?item = wd:{wiki_id})\n",
    "    SERVICE wikibase:label {{ bd:serviceParam wikibase:language \"[AUTO_LANGUAGE],en\". }}\n",
    "    }}\n",
    "    \"\"\"\n",
    "\n",
    "    data_extracter = wdr(query)\n",
    "    df = data_extracter.load_as_dataframe()\n",
    "    new_df = pd.concat([new_df,df[0:1]])\n",
    "new_df.to_csv(\"../raw_data/output_wiki/metafile.csv\") #write to csv file"
   ]
  },
  {
   "cell_type": "code",
   "execution_count": 27,
   "metadata": {},
   "outputs": [
    {
     "data": {
      "text/html": [
       "<div>\n",
       "<style scoped>\n",
       "    .dataframe tbody tr th:only-of-type {\n",
       "        vertical-align: middle;\n",
       "    }\n",
       "\n",
       "    .dataframe tbody tr th {\n",
       "        vertical-align: top;\n",
       "    }\n",
       "\n",
       "    .dataframe thead th {\n",
       "        text-align: right;\n",
       "    }\n",
       "</style>\n",
       "<table border=\"1\" class=\"dataframe\">\n",
       "  <thead>\n",
       "    <tr style=\"text-align: right;\">\n",
       "      <th></th>\n",
       "      <th>item</th>\n",
       "      <th>image</th>\n",
       "      <th>itemLabel</th>\n",
       "      <th>occupationLabel</th>\n",
       "      <th>genderLabel</th>\n",
       "      <th>bdayLabel</th>\n",
       "      <th>citizenshipLabel</th>\n",
       "      <th>dodLabel</th>\n",
       "    </tr>\n",
       "  </thead>\n",
       "  <tbody>\n",
       "    <tr>\n",
       "      <th>8</th>\n",
       "      <td>http://www.wikidata.org/entity/Q103949</td>\n",
       "      <td>http://commons.wikimedia.org/wiki/Special:File...</td>\n",
       "      <td>Buster Keaton</td>\n",
       "      <td>film producer</td>\n",
       "      <td>male</td>\n",
       "      <td>1895-10-04T00:00:00Z</td>\n",
       "      <td>United States of America</td>\n",
       "      <td>1966-02-01T00:00:00Z</td>\n",
       "    </tr>\n",
       "    <tr>\n",
       "      <th>9</th>\n",
       "      <td>http://www.wikidata.org/entity/Q103949</td>\n",
       "      <td>http://commons.wikimedia.org/wiki/Special:File...</td>\n",
       "      <td>Buster Keaton</td>\n",
       "      <td>director</td>\n",
       "      <td>male</td>\n",
       "      <td>1895-10-04T00:00:00Z</td>\n",
       "      <td>United States of America</td>\n",
       "      <td>1966-02-01T00:00:00Z</td>\n",
       "    </tr>\n",
       "    <tr>\n",
       "      <th>10</th>\n",
       "      <td>http://www.wikidata.org/entity/Q103949</td>\n",
       "      <td>http://commons.wikimedia.org/wiki/Special:File...</td>\n",
       "      <td>Buster Keaton</td>\n",
       "      <td>film editor</td>\n",
       "      <td>male</td>\n",
       "      <td>1895-10-04T00:00:00Z</td>\n",
       "      <td>United States of America</td>\n",
       "      <td>1966-02-01T00:00:00Z</td>\n",
       "    </tr>\n",
       "    <tr>\n",
       "      <th>11</th>\n",
       "      <td>http://www.wikidata.org/entity/Q103949</td>\n",
       "      <td>http://commons.wikimedia.org/wiki/Special:File...</td>\n",
       "      <td>Buster Keaton</td>\n",
       "      <td>television actor</td>\n",
       "      <td>male</td>\n",
       "      <td>1895-10-04T00:00:00Z</td>\n",
       "      <td>United States of America</td>\n",
       "      <td>1966-02-01T00:00:00Z</td>\n",
       "    </tr>\n",
       "    <tr>\n",
       "      <th>12</th>\n",
       "      <td>http://www.wikidata.org/entity/Q103949</td>\n",
       "      <td>http://commons.wikimedia.org/wiki/Special:File...</td>\n",
       "      <td>Buster Keaton</td>\n",
       "      <td>film actor</td>\n",
       "      <td>male</td>\n",
       "      <td>1895-10-04T00:00:00Z</td>\n",
       "      <td>United States of America</td>\n",
       "      <td>1966-02-01T00:00:00Z</td>\n",
       "    </tr>\n",
       "  </tbody>\n",
       "</table>\n",
       "</div>"
      ],
      "text/plain": [
       "                                      item  \\\n",
       "8   http://www.wikidata.org/entity/Q103949   \n",
       "9   http://www.wikidata.org/entity/Q103949   \n",
       "10  http://www.wikidata.org/entity/Q103949   \n",
       "11  http://www.wikidata.org/entity/Q103949   \n",
       "12  http://www.wikidata.org/entity/Q103949   \n",
       "\n",
       "                                                image      itemLabel  \\\n",
       "8   http://commons.wikimedia.org/wiki/Special:File...  Buster Keaton   \n",
       "9   http://commons.wikimedia.org/wiki/Special:File...  Buster Keaton   \n",
       "10  http://commons.wikimedia.org/wiki/Special:File...  Buster Keaton   \n",
       "11  http://commons.wikimedia.org/wiki/Special:File...  Buster Keaton   \n",
       "12  http://commons.wikimedia.org/wiki/Special:File...  Buster Keaton   \n",
       "\n",
       "     occupationLabel genderLabel             bdayLabel  \\\n",
       "8      film producer        male  1895-10-04T00:00:00Z   \n",
       "9           director        male  1895-10-04T00:00:00Z   \n",
       "10       film editor        male  1895-10-04T00:00:00Z   \n",
       "11  television actor        male  1895-10-04T00:00:00Z   \n",
       "12        film actor        male  1895-10-04T00:00:00Z   \n",
       "\n",
       "            citizenshipLabel              dodLabel  \n",
       "8   United States of America  1966-02-01T00:00:00Z  \n",
       "9   United States of America  1966-02-01T00:00:00Z  \n",
       "10  United States of America  1966-02-01T00:00:00Z  \n",
       "11  United States of America  1966-02-01T00:00:00Z  \n",
       "12  United States of America  1966-02-01T00:00:00Z  "
      ]
     },
     "execution_count": 27,
     "metadata": {},
     "output_type": "execute_result"
    }
   ],
   "source": [
    "df_test = df\n",
    "df.tail()"
   ]
  },
  {
   "cell_type": "code",
   "execution_count": 24,
   "metadata": {},
   "outputs": [
    {
     "data": {
      "text/html": [
       "<div>\n",
       "<style scoped>\n",
       "    .dataframe tbody tr th:only-of-type {\n",
       "        vertical-align: middle;\n",
       "    }\n",
       "\n",
       "    .dataframe tbody tr th {\n",
       "        vertical-align: top;\n",
       "    }\n",
       "\n",
       "    .dataframe thead th {\n",
       "        text-align: right;\n",
       "    }\n",
       "</style>\n",
       "<table border=\"1\" class=\"dataframe\">\n",
       "  <thead>\n",
       "    <tr style=\"text-align: right;\">\n",
       "      <th></th>\n",
       "      <th>itemLabel</th>\n",
       "      <th>occupationLabel</th>\n",
       "    </tr>\n",
       "  </thead>\n",
       "  <tbody>\n",
       "    <tr>\n",
       "      <th>0</th>\n",
       "      <td>Buster Keaton</td>\n",
       "      <td>screenwriter, actor, writer, comedian, stunt p...</td>\n",
       "    </tr>\n",
       "  </tbody>\n",
       "</table>\n",
       "</div>"
      ],
      "text/plain": [
       "       itemLabel                                    occupationLabel\n",
       "0  Buster Keaton  screenwriter, actor, writer, comedian, stunt p..."
      ]
     },
     "execution_count": 24,
     "metadata": {},
     "output_type": "execute_result"
    }
   ],
   "source": [
    "df_test.head()\n",
    "\n",
    "df_test.groupby('itemLabel', as_index=False).agg({'itemLabel' : 'first', 'occupationLabel' : ', '.join})"
   ]
  },
  {
   "cell_type": "code",
   "execution_count": 17,
   "metadata": {},
   "outputs": [],
   "source": [
    "df_test2 = df_test.copy().T"
   ]
  },
  {
   "cell_type": "code",
   "execution_count": null,
   "metadata": {},
   "outputs": [],
   "source": [
    "#df_test2[\"ocuppations\"] = df_test2[0] +' '+ df_test2[1] + ' ' + df_test[2] + ' ' + df_test[2] + ' ' + df_test[2]"
   ]
  },
  {
   "cell_type": "code",
   "execution_count": 31,
   "metadata": {},
   "outputs": [],
   "source": [
    "# Create a new df with all the name taken from the df having wiki_id\n",
    "from logic import WikiDataQueryResults as wdr\n",
    "\n",
    "\n",
    "new_df = pd.DataFrame(columns=['itemLabel','item', 'image', 'occupationLabel','genderLabel', 'bdayLabel','citizenshipLabel'])\n",
    "\n",
    "for wiki_id in df_act[\"wiki_id\"]:\n",
    "\n",
    "    query = f\"\"\"\n",
    "    SELECT ?itemLabel ?item ?occupationLabel ?image ?genderLabel ?bdayLabel ?citizenshipLabel\n",
    "    WHERE \n",
    "    {{\n",
    "    ?item wdt:P106 ?occupation .\n",
    "    ?item wdt:P21 ?gender .\n",
    "    ?item wdt:P18 ?image .\n",
    "    ?item wdt:P569 ?bday .\n",
    "    ?item wdt:P27 ?citizenship .\n",
    "    FILTER(?item = wd:{wiki_id})\n",
    "    SERVICE wikibase:label {{ bd:serviceParam wikibase:language \"[AUTO_LANGUAGE],en\". }}\n",
    "    }}\n",
    "    \"\"\"\n",
    "\n",
    "    data_extracter = wdr(query)\n",
    "    df = data_extracter.load_as_dataframe()\n",
    "    new_df = pd.concat([new_df,df])\n",
    "new_df.to_csv(\"../raw_data/metafile3.csv\") #write to csv file"
   ]
  },
  {
   "cell_type": "code",
   "execution_count": 33,
   "metadata": {},
   "outputs": [],
   "source": [
    " #write to csv file\n",
    "    "
   ]
  },
  {
   "cell_type": "code",
   "execution_count": 35,
   "metadata": {},
   "outputs": [],
   "source": [
    "df_test = pd.read_csv(\"../raw_data/metafile3.csv\")\n"
   ]
  },
  {
   "cell_type": "code",
   "execution_count": 38,
   "metadata": {},
   "outputs": [
    {
     "data": {
      "text/plain": [
       "Index(['Unnamed: 0', 'itemLabel', 'item', 'image', 'occupationLabel',\n",
       "       'genderLabel', 'bdayLabel', 'citizenshipLabel'],\n",
       "      dtype='object')"
      ]
     },
     "execution_count": 38,
     "metadata": {},
     "output_type": "execute_result"
    }
   ],
   "source": [
    "df_test.columns"
   ]
  },
  {
   "cell_type": "code",
   "execution_count": 45,
   "metadata": {},
   "outputs": [],
   "source": [
    "df_test = df_test.groupby('itemLabel', as_index=False).agg({'itemLabel' : 'first', 'occupationLabel' : ', '.join,'genderLabel':'first', 'bdayLabel':'first', 'citizenshipLabel':'first'})"
   ]
  },
  {
   "cell_type": "code",
   "execution_count": 44,
   "metadata": {},
   "outputs": [],
   "source": [
    "df_test.to_csv(\"../raw_data/metafile3.csv\")"
   ]
  },
  {
   "cell_type": "code",
   "execution_count": 206,
   "metadata": {},
   "outputs": [],
   "source": [
    "import os\n",
    "import unicodedata\n",
    "\n",
    "user_agent = \"WDQS-example Python/%s.%s\" % (sys.version_info[0], sys.version_info[1]) #define agent\n",
    "headers = {'User-Agent': user_agent}\n",
    "\n",
    "def strip_accents(s):\n",
    "   return ''.join(c for c in unicodedata.normalize('NFD', s)\n",
    "                  if unicodedata.category(c) != 'Mn')\n",
    "\n",
    "# Iterate over all celebrities in df and get image and save to output_wiki\n",
    "for idx, row in new_df.iterrows():\n",
    "    img_url = new_df[\"image\"].iloc[idx]\n",
    "    # person_name = new_df[\"itemLabel\"].iloc[idx]\n",
    "    person_name = \"_\".join(strip_accents(new_df[\"itemLabel\"].iloc[idx].lower()).split())+\".jpg\"\n",
    "    target_path = os.path.join(os.getcwd(),\"raw_data\",\"output_wiki\",person_name)\n",
    "    target_image = target_path\n",
    "    response = requests.get(img_url,stream=True,headers=headers)\n",
    "\n",
    "    if response.status_code:\n",
    "        fp = open(target_image, 'wb')\n",
    "        fp.write(response.content)\n",
    "        fp.close()\n"
   ]
  }
 ],
 "metadata": {
  "kernelspec": {
   "display_name": "lewagon",
   "language": "python",
   "name": "python3"
  },
  "language_info": {
   "codemirror_mode": {
    "name": "ipython",
    "version": 3
   },
   "file_extension": ".py",
   "mimetype": "text/x-python",
   "name": "python",
   "nbconvert_exporter": "python",
   "pygments_lexer": "ipython3",
   "version": "3.10.6"
  },
  "orig_nbformat": 4
 },
 "nbformat": 4,
 "nbformat_minor": 2
}
